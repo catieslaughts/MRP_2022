{
 "cells": [
  {
   "cell_type": "code",
   "execution_count": 18,
   "id": "0def18a3",
   "metadata": {},
   "outputs": [],
   "source": [
    "import numpy as np\n",
    "import astropy.units as u\n",
    "import matplotlib.pyplot as plt\n",
    "from tqdm import tqdm"
   ]
  },
  {
   "cell_type": "code",
   "execution_count": 2,
   "id": "5dd0a1a3",
   "metadata": {},
   "outputs": [],
   "source": [
    "files = np.loadtxt('foi.csv', dtype='str', delimiter = ',')"
   ]
  },
  {
   "cell_type": "code",
   "execution_count": 3,
   "id": "13359a99",
   "metadata": {},
   "outputs": [],
   "source": [
    "thetas = np.zeros(files.size)\n",
    "phis = np.zeros(files.size)\n",
    "shellnums = np.zeros(files.size)\n",
    "\n",
    "for idx, file in enumerate(files):\n",
    "    currdata = np.loadtxt('./data/'+file, delimiter = ',')\n",
    "    \n",
    "    shellnums[idx] = currdata[0, -3]\n",
    "    thetas[idx] = currdata[0, -2]\n",
    "    phis[idx] = currdata[0, -1]"
   ]
  },
  {
   "cell_type": "code",
   "execution_count": 4,
   "id": "b4e4ba17",
   "metadata": {},
   "outputs": [
    {
     "name": "stdout",
     "output_type": "stream",
     "text": [
      "Min theta: 0.014142253477512098 rad\n",
      "Max theta: 3.127450400112281 rad\n"
     ]
    }
   ],
   "source": [
    "print('Min theta: '+str(thetas.min())+' rad')\n",
    "print('Max theta: '+str(thetas.max())+' rad')"
   ]
  },
  {
   "cell_type": "code",
   "execution_count": 5,
   "id": "8eb9c181",
   "metadata": {},
   "outputs": [
    {
     "name": "stdout",
     "output_type": "stream",
     "text": [
      "Min phi: 0.0 rad\n",
      "Max phi: 6.282769944890816 rad\n"
     ]
    }
   ],
   "source": [
    "print('Min phi: '+str(phis.min())+' rad')\n",
    "print('Max phi: '+str(phis.max())+' rad')"
   ]
  },
  {
   "cell_type": "code",
   "execution_count": 12,
   "id": "1f876f84",
   "metadata": {},
   "outputs": [
    {
     "data": {
      "text/plain": [
       "Text(0.5, 1.0, 'Thetas')"
      ]
     },
     "execution_count": 12,
     "metadata": {},
     "output_type": "execute_result"
    },
    {
     "data": {
      "image/png": "[encoded data removed]",
      "text/plain": [
       "<Figure size 640x480 with 1 Axes>"
      ]
     },
     "metadata": {},
     "output_type": "display_data"
    }
   ],
   "source": [
    "plt.hist(thetas)\n",
    "plt.xlim(0,2*np.pi)\n",
    "plt.title('Thetas')"
   ]
  },
  {
   "cell_type": "code",
   "execution_count": 7,
   "id": "a1bf2085",
   "metadata": {},
   "outputs": [
    {
     "data": {
      "text/plain": [
       "Text(0.5, 1.0, 'Phis')"
      ]
     },
     "execution_count": 7,
     "metadata": {},
     "output_type": "execute_result"
    },
    {
     "data": {
      "image/png": "[encoded data removed]",
      "text/plain": [
       "<Figure size 640x480 with 1 Axes>"
      ]
     },
     "metadata": {},
     "output_type": "display_data"
    }
   ],
   "source": [
    "plt.hist(phis)\n",
    "plt.xlim(0,2*np.pi)\n",
    "plt.title('Phis')"
   ]
  },
  {
   "cell_type": "code",
   "execution_count": 26,
   "id": "cbacc6d8",
   "metadata": {},
   "outputs": [],
   "source": [
    "def staticdistribution(foi_list = 'foi.csv'):\n",
    "    \n",
    "    files = np.loadtxt('foi.csv', dtype='str', delimiter = ',')\n",
    "    \n",
    "    thetas_flat = np.zeros(files.size)\n",
    "    phis_flat = np.zeros(files.size)\n",
    "    shellnums_flat = np.zeros(files.size)\n",
    "    \n",
    "    for idx in tqdm(range(files.size)):\n",
    "        currdata = np.loadtxt('./data/'+files[idx], delimiter = ',')\n",
    "        \n",
    "        shellnums_flat[idx] = currdata[0, -3]\n",
    "        thetas_flat[idx] = currdata[0, -2]\n",
    "        phis_flat[idx] = currdata[0, -1]\n",
    "        \n",
    "    return(shellnums_flat, thetas_flat, phis_flat)"
   ]
  },
  {
   "cell_type": "code",
   "execution_count": 27,
   "id": "13bf916a",
   "metadata": {},
   "outputs": [
    {
     "name": "stderr",
     "output_type": "stream",
     "text": [
      "100%|████████████████████████████████████████████████████████████████████████████████████████████████████████████| 28174/28174 [01:24<00:00, 332.94it/s]\n"
     ]
    }
   ],
   "source": [
    "shellnums_flat, thetas_flat, phis_flat = staticdistribution()"
   ]
  },
  {
   "cell_type": "code",
   "execution_count": 52,
   "id": "3921bb4a",
   "metadata": {},
   "outputs": [
    {
     "name": "stdout",
     "output_type": "stream",
     "text": [
      "5\n",
      "28174\n",
      "28174\n"
     ]
    }
   ],
   "source": [
    "num_shells = np.unique(shellnums_flat).size\n",
    "print(num_shells)\n",
    "print(thetas_flat.size)\n",
    "\n",
    "thetas = np.zeros([num_shells, thetas_flat.size])\n",
    "phis = np.zeros([num_shells, phis_flat.size])\n",
    "\n",
    "shellnums = np.ones_like(thetas, dtype = int)\n",
    "\n",
    "for idx in np.unique(shellnums_flat):\n",
    "    idx = int(idx)\n",
    "    thetas[idx, 0:np.count_nonzero(shellnums_flat == idx)] = thetas_flat[shellnums_flat == idx]\n",
    "    phis[idx, 0:np.count_nonzero(shellnums_flat == idx)] = phis_flat[shellnums_flat == idx]\n",
    "    \n",
    "    shellnums[idx] = shellnums[idx]*idx\n",
    "\n",
    "thetas[thetas == 0.] = np.nan\n",
    "phis[phis == 0.] = np.nan\n",
    "print(np.count_nonzero(thetas[0]))"
   ]
  },
  {
   "cell_type": "code",
   "execution_count": 74,
   "id": "f82343ed",
   "metadata": {},
   "outputs": [
    {
     "data": {
      "text/plain": [
       "array([0, 1, 2, 3, 4])"
      ]
     },
     "execution_count": 74,
     "metadata": {},
     "output_type": "execute_result"
    }
   ],
   "source": [
    "np.unique(shellnums)"
   ]
  },
  {
   "cell_type": "code",
   "execution_count": 73,
   "id": "40ff6959",
   "metadata": {},
   "outputs": [],
   "source": [
    "colors = np.array(['orange', 'green', 'red', 'purple', 'blue'])\n",
    "\n",
    "if len(colors)==0:\n",
    "    print('ugh')"
   ]
  },
  {
   "cell_type": "code",
   "execution_count": null,
   "id": "4bbad2d8",
   "metadata": {},
   "outputs": [],
   "source": []
  }
 ],
 "metadata": {
  "kernelspec": {
   "display_name": "Python 3 (ipykernel)",
   "language": "python",
   "name": "python3"
  },
  "language_info": {
   "codemirror_mode": {
    "name": "ipython",
    "version": 3
   },
   "file_extension": ".py",
   "mimetype": "text/x-python",
   "name": "python",
   "nbconvert_exporter": "python",
   "pygments_lexer": "ipython3",
   "version": "3.9.13"
  }
 },
 "nbformat": 4,
 "nbformat_minor": 5
}
